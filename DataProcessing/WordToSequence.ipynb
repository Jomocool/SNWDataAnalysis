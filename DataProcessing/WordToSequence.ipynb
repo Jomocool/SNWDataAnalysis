{
 "cells": [
  {
   "cell_type": "code",
   "execution_count": null,
   "metadata": {},
   "outputs": [],
   "source": [
    "import pandas as pd"
   ]
  },
  {
   "cell_type": "code",
   "execution_count": null,
   "metadata": {},
   "outputs": [],
   "source": [
    "# 读取文件\n",
    "df = pd.read_csv(r'data\\finetuning_data.csv', encoding='utf-8', header=None)\n",
    "\n",
    "print(df.head())"
   ]
  },
  {
   "cell_type": "code",
   "execution_count": null,
   "metadata": {},
   "outputs": [],
   "source": [
    "# 新建一列\n",
    "df['label'] = 0\n",
    "\n",
    "# 重命名列名\n",
    "df.columns = ['text', 'label']\n",
    "\n",
    "# 将第一列的分词结果合并成字符串\n",
    "df['text'] = df['text'].apply(lambda x: ''.join(x))\n",
    "\n",
    "# 去掉句子中的单引号和空格和逗号\n",
    "df['text'] = df['text'].apply(lambda x: x.replace(\"'\", \"\").replace(\" \", \"\").replace(\",\", \"\"))\n",
    "\n",
    "print(df.head())"
   ]
  },
  {
   "cell_type": "code",
   "execution_count": null,
   "metadata": {},
   "outputs": [],
   "source": [
    "# 保存文件\n",
    "df.to_csv(r'data\\finetuning_data_seq.csv', index=False, header=0)"
   ]
  }
 ],
 "metadata": {
  "kernelspec": {
   "display_name": "SNWDA",
   "language": "python",
   "name": "python3"
  },
  "language_info": {
   "codemirror_mode": {
    "name": "ipython",
    "version": 3
   },
   "file_extension": ".py",
   "mimetype": "text/x-python",
   "name": "python",
   "nbconvert_exporter": "python",
   "pygments_lexer": "ipython3",
   "version": "3.10.13"
  }
 },
 "nbformat": 4,
 "nbformat_minor": 2
}
