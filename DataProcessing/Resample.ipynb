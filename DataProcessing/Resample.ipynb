{
 "cells": [
  {
   "cell_type": "code",
   "execution_count": 1,
   "metadata": {},
   "outputs": [],
   "source": [
    "import pandas as pd"
   ]
  },
  {
   "cell_type": "code",
   "execution_count": 5,
   "metadata": {},
   "outputs": [
    {
     "name": "stdout",
     "output_type": "stream",
     "text": [
      "label\n",
      "5    377\n",
      "1    377\n",
      "3    377\n",
      "4    377\n",
      "2    377\n",
      "Name: count, dtype: int64\n",
      "count    1885.000000\n",
      "mean      123.105570\n",
      "std       150.500633\n",
      "min        20.000000\n",
      "25%        42.000000\n",
      "50%        68.000000\n",
      "75%       135.000000\n",
      "max       909.000000\n",
      "Name: text, dtype: float64\n"
     ]
    }
   ],
   "source": [
    "# 读取数据\n",
    "df  = pd.read_csv('./resampled_datasets/train.csv', encoding='utf-8')\n",
    "# df = pd.read_csv('./datasets/train.csv', encoding='utf-8')\n",
    "# df  = pd.read_csv('./resampled_datasets/valid.csv', encoding='utf-8')\n",
    "# df = pd.read_csv('./datasets/valid.csv', encoding='utf-8')\n",
    "\n",
    "# 查看标签分布\n",
    "print(df['label'].value_counts())\n",
    "\n",
    "# 查看text列属性的文本长度分布\n",
    "print(df['text'].str.len().describe())"
   ]
  },
  {
   "cell_type": "code",
   "execution_count": 6,
   "metadata": {},
   "outputs": [
    {
     "name": "stdout",
     "output_type": "stream",
     "text": [
      "label\n",
      "4    91\n",
      "3    91\n",
      "5    91\n",
      "1    91\n",
      "2    91\n",
      "Name: count, dtype: int64\n"
     ]
    }
   ],
   "source": [
    "# 对数据进行上采样\n",
    "from imblearn.over_sampling import RandomOverSampler\n",
    "\n",
    "ros = RandomOverSampler(random_state=0)\n",
    "X_resampled, y_resampled = ros.fit_resample(df[['text']], df['label'])\n",
    "\n",
    "# 查看上采样后的标签分布\n",
    "print(pd.Series(y_resampled).value_counts())"
   ]
  },
  {
   "cell_type": "code",
   "execution_count": null,
   "metadata": {},
   "outputs": [],
   "source": [
    "# 对数据进行下采样\n",
    "from imblearn.under_sampling import RandomUnderSampler\n",
    "\n",
    "rus = RandomUnderSampler(random_state=0)\n",
    "X_resampled, y_resampled = rus.fit_resample(df[['text']], df['label'])\n",
    "\n",
    "# 查看下采样后的标签分布\n",
    "print(pd.Series(y_resampled).value_counts())"
   ]
  },
  {
   "cell_type": "code",
   "execution_count": 8,
   "metadata": {},
   "outputs": [
    {
     "name": "stdout",
     "output_type": "stream",
     "text": [
      "                                                text  label\n",
      "0  月入六位数30独居女生的精致生活女生30岁精致女生单身独居女孩独居生活日常我的日常女性成长美...      4\n",
      "1  想知道没有嫉妒和竞争的友谊是怎么样的就是那种充满爱鼓励和支持的友谊是什么样子的你从中得到了多...      3\n",
      "2  深圳小而美的公司有哪些又是一年就业季来看看有什么小而美的公司吧PSsxf不行加班会加疯的简历...      5\n",
      "3          喝一杯下午茶吧温馨的下午喝完这一杯我就去睡午觉大人也要玩玩具我的玩具分享过家家玩具      1\n",
      "4                长沙街头买到铜锣烧父子定制了个mini版街头美食特色小吃街头小吃铜锣烧      5\n"
     ]
    }
   ],
   "source": [
    "# 保存上采样后的数据为csv文件\n",
    "df_resampled = pd.concat([pd.DataFrame(X_resampled), pd.DataFrame(y_resampled)], axis=1)\n",
    "df_resampled.columns = ['text', 'label']\n",
    "\n",
    "print(df_resampled.head())"
   ]
  },
  {
   "cell_type": "code",
   "execution_count": 9,
   "metadata": {},
   "outputs": [],
   "source": [
    "# df_resampled.to_csv('./resampled_datasets/train.csv', index=False, encoding='utf-8')\n",
    "df_resampled.to_csv('./resampled_datasets/valid.csv', index=False, encoding='utf-8')"
   ]
  }
 ],
 "metadata": {
  "kernelspec": {
   "display_name": "SNWDA",
   "language": "python",
   "name": "python3"
  },
  "language_info": {
   "codemirror_mode": {
    "name": "ipython",
    "version": 3
   },
   "file_extension": ".py",
   "mimetype": "text/x-python",
   "name": "python",
   "nbconvert_exporter": "python",
   "pygments_lexer": "ipython3",
   "version": "3.10.13"
  }
 },
 "nbformat": 4,
 "nbformat_minor": 2
}
