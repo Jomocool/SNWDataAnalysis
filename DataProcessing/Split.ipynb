{
 "cells": [
  {
   "cell_type": "code",
   "execution_count": 1,
   "metadata": {},
   "outputs": [],
   "source": [
    "import pandas as pd"
   ]
  },
  {
   "cell_type": "code",
   "execution_count": 3,
   "metadata": {},
   "outputs": [
    {
     "name": "stdout",
     "output_type": "stream",
     "text": [
      "                                                text  label\n",
      "0  这辈子没见过周杰伦这个票价咱就是说谁能想到周杰伦有一天在摩天轮上能半价一开始我以为是我算错了...      2\n",
      "1  她怎么满头都是笑穴啊准备入冬咯姥姥给她买了新帽子没想到她会这么喜欢捂脸R捂脸R从戴到头上开始...      3\n",
      "2  黑暗料理都已经波及到猫界了领先墨鱼舔舔罐我很丑可是我很好吃今天给猪咪们安排上领先的新品舔舔罐...      2\n",
      "3  我去这真的只有女生才会懂1双手扶墙双脚后移后背向下压屁股往上翘坚持15秒做3组2合掌反手向后...      5\n",
      "4  中山大学是全世界唯一一个以中山大学命名的大学也是全中国唯一一个简称双鸭山大学的学校没有之一并...      2\n"
     ]
    }
   ],
   "source": [
    "# 加载数据\n",
    "df = pd.read_csv('data/finetuning_data_seq.csv')\n",
    "print(df.head())"
   ]
  },
  {
   "cell_type": "code",
   "execution_count": 4,
   "metadata": {},
   "outputs": [
    {
     "name": "stdout",
     "output_type": "stream",
     "text": [
      "                                                  text  label\n",
      "710  心动宝马漫画壁纸爱这路遥马急的人间保持热爱奔赴山海宝马宝马3系宝马4系超级跑车圈跑车壁纸油画...      5\n",
      "666              治愈系田园风插画光才是一切氛围感的源头插画分享插画师推荐治愈系漫画治愈漫画      5\n",
      "298             哆啦壁纸分享年底暴富发发发主屏锁屏高清壁纸喜欢的可以取图看到会一一回复自拍R      5\n",
      "356  花菜千万不要焯水和过油这样才最好吃简单易学色香味美炒花菜干锅花菜美食家常菜下饭菜美食日常超级...      1\n",
      "571  在家族聚会对着说吃亏是福的亲戚念了咒出去读书前家族的饭局一个亲戚小麦果汁喝撑了突然说小x啊出...      1\n",
      "                                                 text  label\n",
      "9   月入六位数30独居女生的精致生活女生30岁精致女生单身独居女孩独居生活日常我的日常女性成长美...      4\n",
      "11  想知道没有嫉妒和竞争的友谊是怎么样的就是那种充满爱鼓励和支持的友谊是什么样子的你从中得到了多...      3\n",
      "19  深圳小而美的公司有哪些又是一年就业季来看看有什么小而美的公司吧PSsxf不行加班会加疯的简历...      5\n",
      "23          喝一杯下午茶吧温馨的下午喝完这一杯我就去睡午觉大人也要玩玩具我的玩具分享过家家玩具      1\n",
      "28                长沙街头买到铜锣烧父子定制了个mini版街头美食特色小吃街头小吃铜锣烧      5\n"
     ]
    }
   ],
   "source": [
    "# 划分训练集和验证集，80%的数据用于训练，20%的数据用于验证\n",
    "train_df = df.sample(frac=0.8, random_state=0)\n",
    "valid_df = df.drop(train_df.index)\n",
    "\n",
    "print(train_df.head())\n",
    "print(valid_df.head())"
   ]
  },
  {
   "cell_type": "code",
   "execution_count": 6,
   "metadata": {},
   "outputs": [],
   "source": [
    "\n",
    "# 保存训练集和验证集\n",
    "train_df.to_csv('datasets/train.csv', index=False)\n",
    "valid_df.to_csv('datasets/valid.csv', index=False)"
   ]
  }
 ],
 "metadata": {
  "kernelspec": {
   "display_name": "SNWDA",
   "language": "python",
   "name": "python3"
  },
  "language_info": {
   "codemirror_mode": {
    "name": "ipython",
    "version": 3
   },
   "file_extension": ".py",
   "mimetype": "text/x-python",
   "name": "python",
   "nbconvert_exporter": "python",
   "pygments_lexer": "ipython3",
   "version": "3.10.13"
  }
 },
 "nbformat": 4,
 "nbformat_minor": 2
}
