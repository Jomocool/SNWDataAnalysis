{
 "cells": [
  {
   "cell_type": "code",
   "execution_count": 15,
   "metadata": {},
   "outputs": [],
   "source": [
    "import pandas as pd\n",
    "import os"
   ]
  },
  {
   "cell_type": "code",
   "execution_count": 16,
   "metadata": {},
   "outputs": [
    {
     "name": "stdout",
     "output_type": "stream",
     "text": [
      "['xiaohongshu20231212115800.csv', 'xiaohongshu20231212142150.csv', 'xiaohongshu20231212150118.csv', 'xiaohongshu20231212154930.csv']\n",
      "0    一个很变态，能让你的Python爆发成长的偏方如果你只是在学校里老老实实的跟着课本和老师学，...\n",
      "1    频繁运动的代价就是.....因为自己一向很虚，所以办了健身卡，结果一个月下来，更虚了.......\n",
      "2         将喜欢的一切留在身边，这就是努力的意义马自达rx7改装车JDM改装车文化低趴姿态汽车分享\n",
      "3    我们买了一颗国产卫星。2021年我们发布了一条动态，让大家写下心声，我们或许能有办法将它们送...\n",
      "4    我竟然在十八岁上了中国日报头版！看到报纸的瞬间，它把我带回了2022年的冬天…首先我要感谢自...\n",
      "Name: text, dtype: object\n",
      "(28757,)\n"
     ]
    }
   ],
   "source": [
    "# 设置文件夹路径\n",
    "path = r'./data/source_data/'\n",
    "\n",
    "# 读取文件夹中的所有csv\n",
    "files = os.listdir(path)\n",
    "files_csv = [f for f in files if f[-3:] == 'csv']\n",
    "\n",
    "print(files_csv)\n",
    "\n",
    "# 将所有csv合并为一个\n",
    "df = pd.DataFrame()\n",
    "\n",
    "for file in files_csv:\n",
    "    df_temp = pd.read_csv(path + file, encoding='utf-8', header=None, sep=',')\n",
    "    df = pd.concat([df, df_temp], axis=0)\n",
    "\n",
    "# 取出第3列\n",
    "text = df.iloc[:, 2]\n",
    "\n",
    "# 定义名称为text\n",
    "text.name = 'text'\n",
    "\n",
    "print(text.head())\n",
    "print(text.shape)"
   ]
  },
  {
   "cell_type": "code",
   "execution_count": 17,
   "metadata": {},
   "outputs": [],
   "source": [
    "# 保存为csv，并保存列名\n",
    "text.to_csv('./data/bert_pretrain_data.csv', index=False, header=True)"
   ]
  },
  {
   "cell_type": "code",
   "execution_count": 18,
   "metadata": {},
   "outputs": [
    {
     "name": "stdout",
     "output_type": "stream",
     "text": [
      "                                                text\n",
      "0  一个很变态，能让你的Python爆发成长的偏方如果你只是在学校里老老实实的跟着课本和老师学，...\n",
      "1  频繁运动的代价就是.....因为自己一向很虚，所以办了健身卡，结果一个月下来，更虚了.......\n",
      "2       将喜欢的一切留在身边，这就是努力的意义马自达rx7改装车JDM改装车文化低趴姿态汽车分享\n",
      "3  我们买了一颗国产卫星。2021年我们发布了一条动态，让大家写下心声，我们或许能有办法将它们送...\n",
      "4  我竟然在十八岁上了中国日报头版！看到报纸的瞬间，它把我带回了2022年的冬天…首先我要感谢自...\n"
     ]
    }
   ],
   "source": [
    "# 读取csv\n",
    "df = pd.read_csv('./data/bert_pretrain_data.csv', encoding='utf-8', header=0, sep=',')\n",
    "\n",
    "print(df.head())"
   ]
  }
 ],
 "metadata": {
  "kernelspec": {
   "display_name": "SNWDA",
   "language": "python",
   "name": "python3"
  },
  "language_info": {
   "codemirror_mode": {
    "name": "ipython",
    "version": 3
   },
   "file_extension": ".py",
   "mimetype": "text/x-python",
   "name": "python",
   "nbconvert_exporter": "python",
   "pygments_lexer": "ipython3",
   "version": "3.10.13"
  }
 },
 "nbformat": 4,
 "nbformat_minor": 2
}
