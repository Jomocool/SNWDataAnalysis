{
 "cells": [
  {
   "cell_type": "code",
   "execution_count": 1,
   "metadata": {},
   "outputs": [],
   "source": [
    "import torch\n",
    "from transformers import BertModel, BertTokenizer\n",
    "from datasets import load_dataset\n",
    "import matplotlib.pyplot as plt"
   ]
  },
  {
   "cell_type": "code",
   "execution_count": 2,
   "metadata": {},
   "outputs": [
    {
     "data": {
      "text/plain": [
       "BertModel(\n",
       "  (embeddings): BertEmbeddings(\n",
       "    (word_embeddings): Embedding(21128, 768, padding_idx=0)\n",
       "    (position_embeddings): Embedding(512, 768)\n",
       "    (token_type_embeddings): Embedding(2, 768)\n",
       "    (LayerNorm): LayerNorm((768,), eps=1e-12, elementwise_affine=True)\n",
       "    (dropout): Dropout(p=0.1, inplace=False)\n",
       "  )\n",
       "  (encoder): BertEncoder(\n",
       "    (layer): ModuleList(\n",
       "      (0-11): 12 x BertLayer(\n",
       "        (attention): BertAttention(\n",
       "          (self): BertSelfAttention(\n",
       "            (query): Linear(in_features=768, out_features=768, bias=True)\n",
       "            (key): Linear(in_features=768, out_features=768, bias=True)\n",
       "            (value): Linear(in_features=768, out_features=768, bias=True)\n",
       "            (dropout): Dropout(p=0.1, inplace=False)\n",
       "          )\n",
       "          (output): BertSelfOutput(\n",
       "            (dense): Linear(in_features=768, out_features=768, bias=True)\n",
       "            (LayerNorm): LayerNorm((768,), eps=1e-12, elementwise_affine=True)\n",
       "            (dropout): Dropout(p=0.1, inplace=False)\n",
       "          )\n",
       "        )\n",
       "        (intermediate): BertIntermediate(\n",
       "          (dense): Linear(in_features=768, out_features=3072, bias=True)\n",
       "          (intermediate_act_fn): GELUActivation()\n",
       "        )\n",
       "        (output): BertOutput(\n",
       "          (dense): Linear(in_features=3072, out_features=768, bias=True)\n",
       "          (LayerNorm): LayerNorm((768,), eps=1e-12, elementwise_affine=True)\n",
       "          (dropout): Dropout(p=0.1, inplace=False)\n",
       "        )\n",
       "      )\n",
       "    )\n",
       "  )\n",
       "  (pooler): BertPooler(\n",
       "    (dense): Linear(in_features=768, out_features=768, bias=True)\n",
       "    (activation): Tanh()\n",
       "  )\n",
       ")"
      ]
     },
     "execution_count": 2,
     "metadata": {},
     "output_type": "execute_result"
    }
   ],
   "source": [
    "# 设置device\n",
    "device = torch.device('cuda:0' if torch.cuda.is_available() else 'cpu')\n",
    "\n",
    "# 加载预训练模型\n",
    "pretrained = BertModel.from_pretrained('model/bert-base-chinese/')\n",
    "# 需要移动到cuda上\n",
    "pretrained.to(device)"
   ]
  },
  {
   "cell_type": "code",
   "execution_count": 3,
   "metadata": {},
   "outputs": [],
   "source": [
    "class Model(torch.nn.Module):\n",
    "    def __init__(self):\n",
    "        super().__init__()\n",
    "        # 冻结预训练模型的所有参数\n",
    "        for param in pretrained.parameters():\n",
    "            param.requires_grad = False\n",
    "        self.fc1 = torch.nn.Linear(768, 5)\n",
    "\n",
    "    def forward(self, input_ids, attention_mask, token_type_ids):\n",
    "        # 预训练好的模型不需要训练，但是它的输出需要梯度\n",
    "        output = pretrained(input_ids, attention_mask, token_type_ids)\n",
    "        # 取出[CLS]的输出\n",
    "        output = output.last_hidden_state[:, 0, :]\n",
    "        output = self.fc1(output)\n",
    "        return output"
   ]
  },
  {
   "cell_type": "code",
   "execution_count": 4,
   "metadata": {},
   "outputs": [
    {
     "data": {
      "text/plain": [
       "Model(\n",
       "  (fc1): Linear(in_features=768, out_features=5, bias=True)\n",
       ")"
      ]
     },
     "execution_count": 4,
     "metadata": {},
     "output_type": "execute_result"
    }
   ],
   "source": [
    "model = Model()\n",
    "# 同样要移动到cuda\n",
    "model.to(device)"
   ]
  },
  {
   "cell_type": "code",
   "execution_count": 5,
   "metadata": {},
   "outputs": [],
   "source": [
    "# 后面的计算和中文分类完全一样，只是放在了cuda上计算\n",
    "# 定义数据集\n",
    "class Dataset(torch.utils.data.Dataset):\n",
    "\n",
    "    def __init__(self, split):\n",
    "        self.dataset = load_dataset('resampled_datasets')[split]\n",
    "\n",
    "    def __len__(self):\n",
    "        return len(self.dataset)\n",
    "\n",
    "    def __getitem__(self, i):\n",
    "        text = self.dataset[i]['text']\n",
    "        label = self.dataset[i]['label']\n",
    "        return text, label"
   ]
  },
  {
   "cell_type": "code",
   "execution_count": 6,
   "metadata": {},
   "outputs": [],
   "source": [
    "dataset = Dataset('train')\n",
    "\n",
    "# 加载字典和分词工具\n",
    "token = BertTokenizer.from_pretrained('./model/')"
   ]
  },
  {
   "cell_type": "code",
   "execution_count": 7,
   "metadata": {},
   "outputs": [],
   "source": [
    "def collate_fn(data):\n",
    "    sents = [i[0] for i in data]\n",
    "    labels = [i[1] for i in data]\n",
    "\n",
    "    # 编码\n",
    "    data = token.batch_encode_plus(batch_text_or_text_pairs=sents,\n",
    "                                   truncation=True,\n",
    "                                   padding='max_length',\n",
    "                                   max_length=200,\n",
    "                                   return_tensors='pt',\n",
    "                                   return_length=True)\n",
    "    # input_ids:编码之后的数字\n",
    "    # attention_mask:是补零的位置是0,其他位置是1\n",
    "    input_ids = data['input_ids'].to(device)\n",
    "    attention_mask = data['attention_mask'].to(device)\n",
    "    token_type_ids = data['token_type_ids'].to(device)\n",
    "    labels = torch.LongTensor(labels).to(device)\n",
    "    #print(data['length'], data['length'].max())\n",
    "    return input_ids, attention_mask, token_type_ids, labels"
   ]
  },
  {
   "cell_type": "code",
   "execution_count": 8,
   "metadata": {},
   "outputs": [],
   "source": [
    "# 数据加载器\n",
    "loader = torch.utils.data.DataLoader(dataset=dataset,\n",
    "                                     batch_size=128,\n",
    "                                     collate_fn=collate_fn,\n",
    "                                     shuffle=True,\n",
    "                                     drop_last=True)"
   ]
  },
  {
   "cell_type": "code",
   "execution_count": 9,
   "metadata": {},
   "outputs": [],
   "source": [
    "# 验证\n",
    "def val(criterion):\n",
    "    model.eval()\n",
    "    correct = 0\n",
    "    total = 0\n",
    "    val_loss = 0\n",
    "    loader_test = torch.utils.data.DataLoader(dataset=Dataset('validation'),\n",
    "                                              batch_size=32,\n",
    "                                              collate_fn=collate_fn,\n",
    "                                              shuffle=True,\n",
    "                                              drop_last=True)\n",
    "    for i, (input_ids, attention_mask, token_type_ids,\n",
    "            labels) in enumerate(loader_test):\n",
    "        with torch.no_grad():\n",
    "            out = model(input_ids=input_ids,\n",
    "                        attention_mask=attention_mask,\n",
    "                        token_type_ids=token_type_ids)\n",
    "        new_labels = labels - 1\n",
    "        loss = criterion(out, new_labels)\n",
    "        val_loss += loss.item()\n",
    "        correct += (out.argmax(dim=1) == new_labels).sum().item()\n",
    "        total += len(labels)\n",
    "    model.train()\n",
    "    return correct / total, val_loss / len(loader_test)"
   ]
  },
  {
   "cell_type": "code",
   "execution_count": 10,
   "metadata": {},
   "outputs": [
    {
     "name": "stdout",
     "output_type": "stream",
     "text": [
      "Epoch 1/10\n",
      "strp = 1, train_loss = 1.7467377185821533, val_loss = 1.6510363050869532, val_acc = 0.21205357142857142\n",
      "strp = 4, train_loss = 1.5617016553878784, val_loss = 1.5897682479449682, val_acc = 0.27232142857142855\n",
      "strp = 7, train_loss = 1.4807062149047852, val_loss = 1.5180290256227766, val_acc = 0.3482142857142857\n",
      "strp = 10, train_loss = 1.4118927717208862, val_loss = 1.453406810760498, val_acc = 0.37723214285714285\n",
      "strp = 13, train_loss = 1.336926817893982, val_loss = 1.4030994517462594, val_acc = 0.421875\n",
      "Epoch 2/10\n",
      "strp = 1, train_loss = 1.3299990892410278, val_loss = 1.3729339923177446, val_acc = 0.4486607142857143\n",
      "strp = 4, train_loss = 1.265798568725586, val_loss = 1.3542605127607072, val_acc = 0.48660714285714285\n",
      "strp = 7, train_loss = 1.2043406963348389, val_loss = 1.3124962108475822, val_acc = 0.4799107142857143\n",
      "strp = 10, train_loss = 1.1220433712005615, val_loss = 1.28382636819567, val_acc = 0.45535714285714285\n",
      "strp = 13, train_loss = 1.1596543788909912, val_loss = 1.2669088414737157, val_acc = 0.43973214285714285\n",
      "Epoch 3/10\n",
      "strp = 1, train_loss = 1.1087130308151245, val_loss = 1.2586932352610998, val_acc = 0.4486607142857143\n",
      "strp = 4, train_loss = 1.0788031816482544, val_loss = 1.2486510276794434, val_acc = 0.45982142857142855\n",
      "strp = 7, train_loss = 1.1584038734436035, val_loss = 1.2312530194010054, val_acc = 0.5044642857142857\n",
      "strp = 10, train_loss = 0.9879444241523743, val_loss = 1.2178565519196647, val_acc = 0.49330357142857145\n",
      "strp = 13, train_loss = 1.0034315586090088, val_loss = 1.2104988523891993, val_acc = 0.5133928571428571\n",
      "Epoch 4/10\n",
      "strp = 1, train_loss = 1.0697702169418335, val_loss = 1.2082490239824568, val_acc = 0.5044642857142857\n",
      "strp = 4, train_loss = 0.9852544069290161, val_loss = 1.203253298997879, val_acc = 0.45535714285714285\n",
      "strp = 7, train_loss = 1.0129830837249756, val_loss = 1.2025833555630274, val_acc = 0.45089285714285715\n",
      "strp = 10, train_loss = 0.9965032339096069, val_loss = 1.1929835506847926, val_acc = 0.46875\n",
      "strp = 13, train_loss = 0.8484600782394409, val_loss = 1.1900648261819566, val_acc = 0.5334821428571429\n",
      "Epoch 5/10\n",
      "strp = 1, train_loss = 0.9793603420257568, val_loss = 1.2131368347576685, val_acc = 0.5066964285714286\n",
      "strp = 4, train_loss = 0.9478250741958618, val_loss = 1.2008405370371682, val_acc = 0.5491071428571429\n",
      "strp = 7, train_loss = 0.8436091542243958, val_loss = 1.1904065310955048, val_acc = 0.5245535714285714\n",
      "strp = 10, train_loss = 0.8001922965049744, val_loss = 1.1841626507895333, val_acc = 0.5022321428571429\n",
      "strp = 13, train_loss = 0.983855128288269, val_loss = 1.190089327948434, val_acc = 0.47544642857142855\n",
      "Epoch 6/10\n",
      "strp = 1, train_loss = 0.8296523094177246, val_loss = 1.1949351557663508, val_acc = 0.46875\n",
      "strp = 4, train_loss = 0.9508193731307983, val_loss = 1.1932226930345808, val_acc = 0.5022321428571429\n",
      "strp = 7, train_loss = 0.8556976318359375, val_loss = 1.1859637882028307, val_acc = 0.5379464285714286\n",
      "strp = 10, train_loss = 0.9086105227470398, val_loss = 1.1753133024488176, val_acc = 0.5357142857142857\n",
      "strp = 13, train_loss = 0.9168448448181152, val_loss = 1.1951336349759782, val_acc = 0.49107142857142855\n",
      "Epoch 7/10\n",
      "strp = 1, train_loss = 0.8496668934822083, val_loss = 1.1856198481151037, val_acc = 0.5022321428571429\n",
      "strp = 4, train_loss = 0.9345864653587341, val_loss = 1.1883384585380554, val_acc = 0.49107142857142855\n",
      "strp = 7, train_loss = 0.8771413564682007, val_loss = 1.1877242624759674, val_acc = 0.5401785714285714\n",
      "strp = 10, train_loss = 0.8385933637619019, val_loss = 1.1827271495546614, val_acc = 0.5223214285714286\n",
      "strp = 13, train_loss = 0.8250545263290405, val_loss = 1.1946968691689628, val_acc = 0.4888392857142857\n",
      "Epoch 8/10\n",
      "strp = 1, train_loss = 0.7809423804283142, val_loss = 1.1857077138764518, val_acc = 0.5022321428571429\n",
      "strp = 4, train_loss = 0.7785458564758301, val_loss = 1.1947872638702393, val_acc = 0.47544642857142855\n",
      "strp = 7, train_loss = 0.8081990480422974, val_loss = 1.1973579483372825, val_acc = 0.4888392857142857\n",
      "strp = 10, train_loss = 0.7448379993438721, val_loss = 1.191955872944423, val_acc = 0.4888392857142857\n",
      "strp = 13, train_loss = 0.7846007347106934, val_loss = 1.1959171550614494, val_acc = 0.5111607142857143\n",
      "Epoch 9/10\n",
      "strp = 1, train_loss = 0.7495554089546204, val_loss = 1.1982111888272422, val_acc = 0.4888392857142857\n",
      "strp = 4, train_loss = 0.8484336137771606, val_loss = 1.2035567462444305, val_acc = 0.5133928571428571\n",
      "strp = 7, train_loss = 0.7193276286125183, val_loss = 1.2187429794243403, val_acc = 0.47767857142857145\n",
      "strp = 10, train_loss = 0.7685072422027588, val_loss = 1.2294819269861494, val_acc = 0.48214285714285715\n",
      "strp = 13, train_loss = 0.7668472528457642, val_loss = 1.203985380274909, val_acc = 0.49776785714285715\n",
      "Epoch 10/10\n",
      "strp = 1, train_loss = 0.7514089345932007, val_loss = 1.1912734721388136, val_acc = 0.5223214285714286\n",
      "strp = 4, train_loss = 0.7292018532752991, val_loss = 1.2025636093957084, val_acc = 0.5133928571428571\n",
      "strp = 7, train_loss = 0.6472247838973999, val_loss = 1.2041014347757613, val_acc = 0.4642857142857143\n",
      "strp = 10, train_loss = 0.7619761228561401, val_loss = 1.2128373341900962, val_acc = 0.46651785714285715\n",
      "strp = 13, train_loss = 0.626535177230835, val_loss = 1.2169912712914603, val_acc = 0.484375\n"
     ]
    }
   ],
   "source": [
    "# 训练\n",
    "optimizer = torch.optim.Adam(model.parameters(), lr=1e-3, weight_decay=1e-5)\n",
    "criterion = torch.nn.CrossEntropyLoss()\n",
    "model.train()\n",
    "\n",
    "num_epochs = 10\n",
    "train_loss_list = []\n",
    "val_loss_list = []\n",
    "val_acc_list = []\n",
    "\n",
    "for epoch in range(num_epochs):\n",
    "    print(f\"Epoch {epoch+1}/{num_epochs}\")\n",
    "\n",
    "    for i, (input_ids, attention_mask, token_type_ids, labels) in enumerate(loader):\n",
    "        out = model(input_ids=input_ids, attention_mask=attention_mask,\n",
    "                    token_type_ids=token_type_ids)\n",
    "        new_labels = labels - 1\n",
    "        loss = criterion(out, new_labels)\n",
    "        optimizer.zero_grad()\n",
    "        loss.backward()\n",
    "        optimizer.step()\n",
    "\n",
    "        if i % 3 == 0:\n",
    "            acc, val_loss = val(criterion)\n",
    "            print(\n",
    "                f\"strp = {i+1}, train_loss = {loss.item()}, val_loss = {val_loss}, val_acc = {acc}\")\n",
    "            train_loss_list.append(loss.item())\n",
    "            val_loss_list.append(val_loss)\n",
    "            val_acc_list.append(acc)"
   ]
  },
  {
   "cell_type": "code",
   "execution_count": 11,
   "metadata": {},
   "outputs": [
    {
     "data": {
      "image/png": "[encoded data removed]",
      "text/plain": [
       "<Figure size 640x480 with 1 Axes>"
      ]
     },
     "metadata": {},
     "output_type": "display_data"
    }
   ],
   "source": [
    "# 绘制图像\n",
    "plt.plot(train_loss_list, label='train_loss')\n",
    "plt.plot(val_loss_list, label='val_loss')\n",
    "plt.plot(val_acc_list, label='val_acc')\n",
    "plt.xlabel('step')\n",
    "# plt.ylim(0, 1.6)\n",
    "plt.legend()\n",
    "plt.show()"
   ]
  },
  {
   "cell_type": "code",
   "execution_count": 12,
   "metadata": {},
   "outputs": [],
   "source": [
    "# 保存模型\n",
    "torch.save(model.state_dict(), 'model.pth')"
   ]
  }
 ],
 "metadata": {
  "kernelspec": {
   "display_name": "ML_project",
   "language": "python",
   "name": "python3"
  },
  "language_info": {
   "codemirror_mode": {
    "name": "ipython",
    "version": 3
   },
   "file_extension": ".py",
   "mimetype": "text/x-python",
   "name": "python",
   "nbconvert_exporter": "python",
   "pygments_lexer": "ipython3",
   "version": "3.10.13"
  }
 },
 "nbformat": 4,
 "nbformat_minor": 2
}
