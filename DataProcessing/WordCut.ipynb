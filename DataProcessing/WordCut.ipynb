{
 "cells": [
  {
   "cell_type": "code",
   "execution_count": 1,
   "metadata": {},
   "outputs": [],
   "source": [
    "import jieba\n",
    "import pandas as pd\n",
    "import os"
   ]
  },
  {
   "cell_type": "code",
   "execution_count": 3,
   "metadata": {},
   "outputs": [
    {
     "name": "stdout",
     "output_type": "stream",
     "text": [
      "['xiaohongshu20231212115800.csv']\n",
      "0    一个很变态，能让你的Python爆发成长的偏方如果你只是在学校里老老实实的跟着课本和老师学，...\n",
      "1    频繁运动的代价就是.....因为自己一向很虚，所以办了健身卡，结果一个月下来，更虚了.......\n",
      "2         将喜欢的一切留在身边，这就是努力的意义马自达rx7改装车JDM改装车文化低趴姿态汽车分享\n",
      "3    我们买了一颗国产卫星。2021年我们发布了一条动态，让大家写下心声，我们或许能有办法将它们送...\n",
      "4    我竟然在十八岁上了中国日报头版！看到报纸的瞬间，它把我带回了2022年的冬天…首先我要感谢自...\n",
      "Name: 2, dtype: object\n",
      "(6824,)\n"
     ]
    }
   ],
   "source": [
    "# 设置文件夹路径\n",
    "path = r'./data/source_data/'\n",
    "\n",
    "# 读取文件夹中的所有csv\n",
    "files = os.listdir(path)\n",
    "files_csv = [f for f in files if f[-3:] == 'csv']\n",
    "\n",
    "print(files_csv)\n",
    "\n",
    "# 将所有csv合并为一个\n",
    "df = pd.DataFrame()\n",
    "\n",
    "for file in files_csv:\n",
    "    df_temp = pd.read_csv(path + file, encoding='utf-8', header=None, sep=',')\n",
    "    df = pd.concat([df, df_temp], axis=0)\n",
    "\n",
    "# 取出第3列\n",
    "text = df.iloc[:, 2]\n",
    "\n",
    "print(text.head())\n",
    "print(text.shape)"
   ]
  },
  {
   "cell_type": "code",
   "execution_count": 4,
   "metadata": {},
   "outputs": [
    {
     "name": "stderr",
     "output_type": "stream",
     "text": [
      "Building prefix dict from the default dictionary ...\n",
      "Loading model from cache C:\\Users\\11622\\AppData\\Local\\Temp\\jieba.cache\n",
      "Loading model cost 1.342 seconds.\n",
      "Prefix dict has been built successfully.\n"
     ]
    },
    {
     "name": "stdout",
     "output_type": "stream",
     "text": [
      "0    [一个, 很, 变态, ，, 能, 让, 你, 的, Python, 爆发, 成长, 的, ...\n",
      "1    [频繁, 运动, 的, 代价, 就是, ....., 因为, 自己, 一向, 很, 虚, ，...\n",
      "2    [将, 喜欢, 的, 一切, 留在, 身边, ，, 这, 就是, 努力, 的, 意义, 马自...\n",
      "3    [我们, 买, 了, 一颗, 国产, 卫星, 。, 2021, 年, 我们, 发布, 了, ...\n",
      "4    [我, 竟然, 在, 十八岁, 上, 了, 中国日报, 头版, ！, 看到, 报纸, 的, ...\n",
      "Name: 2, dtype: object\n",
      "(6824,)\n"
     ]
    }
   ],
   "source": [
    "# 分词\n",
    "text = text.apply(lambda x: jieba.lcut(x))\n",
    "\n",
    "print(text.head())\n",
    "print(text.shape)"
   ]
  },
  {
   "cell_type": "code",
   "execution_count": 5,
   "metadata": {},
   "outputs": [
    {
     "name": "stdout",
     "output_type": "stream",
     "text": [
      "0    [很, 变态, Python, 爆发, 成长, 偏方, 学校, 里, 老老实实, 跟着, 课...\n",
      "1    [频繁, 运动, 代价, 一向, 很, 虚, 办, 健身卡, 一个月, 下来, 更, 虚, ...\n",
      "2    [喜欢, 留在, 身边, 努力, 意义, 马自达, 改装车, JDM, 改装车, 文化, 低...\n",
      "3    [买, 一颗, 国产, 卫星, 2021, 年, 发布, 一条, 动态, 大家, 写下, 心...\n",
      "4    [竟然, 十八岁, 上, 中国日报, 头版, 看到, 报纸, 瞬间, 带回, 2022, 年...\n",
      "Name: 2, dtype: object\n"
     ]
    }
   ],
   "source": [
    "# 去除不是中文和英文的词和停用词\n",
    "stopwords = [line.strip() for line in open('data/hit_stopwords.txt', encoding='UTF-8').readlines()]\n",
    "text = text.apply(lambda x: [i for i in x if i not in stopwords and ('\\u4e00' <= i <= '\\u9fa5' or i.encode('UTF-8').isalpha() or i.isdigit())])\n",
    "\n",
    "print(text.head())"
   ]
  },
  {
   "cell_type": "code",
   "execution_count": 7,
   "metadata": {},
   "outputs": [],
   "source": [
    "# 保存为csv\n",
    "text.to_csv('./data/pretrain_data.csv', index=False, header=None)"
   ]
  }
 ],
 "metadata": {
  "kernelspec": {
   "display_name": "SNWDA",
   "language": "python",
   "name": "python3"
  },
  "language_info": {
   "codemirror_mode": {
    "name": "ipython",
    "version": 3
   },
   "file_extension": ".py",
   "mimetype": "text/x-python",
   "name": "python",
   "nbconvert_exporter": "python",
   "pygments_lexer": "ipython3",
   "version": "3.10.13"
  }
 },
 "nbformat": 4,
 "nbformat_minor": 2
}
