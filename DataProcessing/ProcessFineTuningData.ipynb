{
 "cells": [
  {
   "cell_type": "code",
   "execution_count": 9,
   "metadata": {},
   "outputs": [],
   "source": [
    "import pandas as pd\n",
    "import jieba"
   ]
  },
  {
   "cell_type": "code",
   "execution_count": 17,
   "metadata": {},
   "outputs": [
    {
     "name": "stdout",
     "output_type": "stream",
     "text": [
      "                                                text  label\n",
      "0  这辈子没见过周杰伦这个票价咱就是说谁能想到周杰伦有一天在摩天轮上能半价一开始我以为是我算错了...      2\n",
      "1  她怎么满头都是笑穴啊准备入冬咯姥姥给她买了新帽子没想到她会这么喜欢捂脸R捂脸R从戴到头上开始...      3\n",
      "2  黑暗料理都已经波及到猫界了领先墨鱼舔舔罐我很丑可是我很好吃今天给猪咪们安排上领先的新品舔舔罐...      2\n",
      "3  我去这真的只有女生才会懂1双手扶墙双脚后移后背向下压屁股往上翘坚持15秒做3组2合掌反手向后...      5\n",
      "4  中山大学是全世界唯一一个以中山大学命名的大学也是全中国唯一一个简称双鸭山大学的学校没有之一并...      2\n"
     ]
    }
   ],
   "source": [
    "# 读取文件\n",
    "df = pd.read_csv('./data/finetuning_data_seq.csv', encoding='utf-8', header=0)\n",
    "\n",
    "# 去除text列左右两边的中括号\n",
    "df['text'] = df['text'].str.strip('[]')\n",
    "\n",
    "print(df.head(5))"
   ]
  },
  {
   "cell_type": "code",
   "execution_count": 18,
   "metadata": {},
   "outputs": [
    {
     "name": "stdout",
     "output_type": "stream",
     "text": [
      "                                                text  label\n",
      "0  这辈子 没见 过 周杰伦 这个 票价 咱 就是说 谁 能 想到 周杰伦 有 一天 在 摩天轮...      2\n",
      "1  她 怎么 满头 都 是 笑 穴 啊 准备 入冬 咯 姥姥 给 她 买 了 新 帽子 没想到 ...      3\n",
      "2  黑暗 料理 都 已经 波及 到 猫界 了 领先 墨鱼 舔 舔 罐 我 很丑 可是 我 很 好...      2\n",
      "3  我 去 这 真的 只有 女生 才 会 懂 1 双手 扶墙 双脚 后移 后背 向 下压 屁股 ...      5\n",
      "4  中山大学 是 全世界 唯一 一个 以 中山大学 命名 的 大学 也 是 全 中国 唯一 一个...      2\n"
     ]
    }
   ],
   "source": [
    "# 对第一列进行分词\n",
    "df['text'] = df['text'].apply(lambda x: ' '.join(jieba.cut(x)))\n",
    "\n",
    "print(df.head(5))"
   ]
  },
  {
   "cell_type": "code",
   "execution_count": null,
   "metadata": {},
   "outputs": [],
   "source": [
    "# 保存文件\n",
    "df.to_csv('./data/finetuning_data_seq.csv', encoding='utf-8', index=False, header=0)"
   ]
  }
 ],
 "metadata": {
  "kernelspec": {
   "display_name": "SNWDA",
   "language": "python",
   "name": "python3"
  },
  "language_info": {
   "codemirror_mode": {
    "name": "ipython",
    "version": 3
   },
   "file_extension": ".py",
   "mimetype": "text/x-python",
   "name": "python",
   "nbconvert_exporter": "python",
   "pygments_lexer": "ipython3",
   "version": "3.10.13"
  }
 },
 "nbformat": 4,
 "nbformat_minor": 2
}
